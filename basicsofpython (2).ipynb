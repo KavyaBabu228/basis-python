{
 "cells": [
  {
   "cell_type": "code",
   "execution_count": 1,
   "id": "86314643-92c2-45fd-82c4-42449a79a7bf",
   "metadata": {},
   "outputs": [],
   "source": [
    "##prime number\n"
   ]
  },
  {
   "cell_type": "code",
   "execution_count": 1,
   "id": "7de0d727-8988-4b57-9bdf-701fa1a4f593",
   "metadata": {},
   "outputs": [
    {
     "name": "stdin",
     "output_type": "stream",
     "text": [
      "Enter the number:  7\n"
     ]
    },
    {
     "name": "stdout",
     "output_type": "stream",
     "text": [
      "Is a prime number\n"
     ]
    }
   ],
   "source": [
    "num = int(input(\"Enter the number: \"))\n",
    "\n",
    "if num > 1:\n",
    "    for i in range(2, int(num ** 0.5) + 1):\n",
    "        if num % i == 0:\n",
    "           print(\"Not a prime number\")\n",
    "           break\n",
    "    else:\n",
    "        print(\"Is a prime number\")\n",
    "else:\n",
    "    print(\"Not a prime number\")"
   ]
  },
  {
   "cell_type": "code",
   "execution_count": 5,
   "id": "c6ff1fba-a210-47cd-88c4-3f4de6f40c89",
   "metadata": {},
   "outputs": [],
   "source": [
    "##Product of Random Numbers"
   ]
  },
  {
   "cell_type": "code",
   "execution_count": 3,
   "id": "0bbb6835-8d3e-4802-867e-83d8ae05f929",
   "metadata": {},
   "outputs": [
    {
     "name": "stdout",
     "output_type": "stream",
     "text": [
      "Random numbers: 94 and 59\n",
      "What is the product of 94 and 59?\n"
     ]
    },
    {
     "name": "stdin",
     "output_type": "stream",
     "text": [
      "Enter your answer:  77\n"
     ]
    },
    {
     "name": "stdout",
     "output_type": "stream",
     "text": [
      "Answer is not correct, the correct answer is 5546\n"
     ]
    }
   ],
   "source": [
    "import random\n",
    "num1 = random.randint(1,100)\n",
    "num2 = random.randint(1,100)\n",
    "print(f\"Random numbers: {num1} and {num2}\")\n",
    "\n",
    "product = num1 * num2\n",
    "print(f\"What is the product of {num1} and {num2}?\")\n",
    "\n",
    "answer = int(input(\"Enter your answer: \"))\n",
    "if answer == product:\n",
    "    print(\"Answer is correct.\")\n",
    "else:\n",
    "    print(f\"Answer is not correct, the correct answer is {product}\")\n",
    "\n"
   ]
  },
  {
   "cell_type": "code",
   "execution_count": 11,
   "id": "353b2b22-11ec-4352-9c97-3cfea699dc6c",
   "metadata": {},
   "outputs": [],
   "source": [
    "##Squares of Even/Odd Numbers\n",
    "##Even number"
   ]
  },
  {
   "cell_type": "code",
   "execution_count": 5,
   "id": "455106a4-b099-4b46-8b1f-5ad500ceb0e3",
   "metadata": {},
   "outputs": [
    {
     "name": "stdout",
     "output_type": "stream",
     "text": [
      "Squares of even numbers from 100 to 200:\n",
      "100^2 = 10000\n",
      "102^2 = 10404\n",
      "104^2 = 10816\n",
      "106^2 = 11236\n",
      "108^2 = 11664\n",
      "110^2 = 12100\n",
      "112^2 = 12544\n",
      "114^2 = 12996\n",
      "116^2 = 13456\n",
      "118^2 = 13924\n",
      "120^2 = 14400\n",
      "122^2 = 14884\n",
      "124^2 = 15376\n",
      "126^2 = 15876\n",
      "128^2 = 16384\n",
      "130^2 = 16900\n",
      "132^2 = 17424\n",
      "134^2 = 17956\n",
      "136^2 = 18496\n",
      "138^2 = 19044\n",
      "140^2 = 19600\n",
      "142^2 = 20164\n",
      "144^2 = 20736\n",
      "146^2 = 21316\n",
      "148^2 = 21904\n",
      "150^2 = 22500\n",
      "152^2 = 23104\n",
      "154^2 = 23716\n",
      "156^2 = 24336\n",
      "158^2 = 24964\n",
      "160^2 = 25600\n",
      "162^2 = 26244\n",
      "164^2 = 26896\n",
      "166^2 = 27556\n",
      "168^2 = 28224\n",
      "170^2 = 28900\n",
      "172^2 = 29584\n",
      "174^2 = 30276\n",
      "176^2 = 30976\n",
      "178^2 = 31684\n",
      "180^2 = 32400\n",
      "182^2 = 33124\n",
      "184^2 = 33856\n",
      "186^2 = 34596\n",
      "188^2 = 35344\n",
      "190^2 = 36100\n",
      "192^2 = 36864\n",
      "194^2 = 37636\n",
      "196^2 = 38416\n",
      "198^2 = 39204\n",
      "200^2 = 40000\n"
     ]
    }
   ],
   "source": [
    "a = 100\n",
    "b = 200\n",
    "\n",
    "print(\"Squares of even numbers from 100 to 200:\")\n",
    "for num in range(a, b + 1):\n",
    "    if num % 2 == 0: \n",
    "        square = num ** 2\n",
    "        print(f\"{num}^2 = {square}\")\n"
   ]
  },
  {
   "cell_type": "code",
   "execution_count": 15,
   "id": "bb549752-46d3-4b9f-b2cd-830fa2590ac0",
   "metadata": {},
   "outputs": [],
   "source": [
    "##Word counter"
   ]
  },
  {
   "cell_type": "code",
   "execution_count": 9,
   "id": "ceafa4b6-d951-4bf2-a25b-9df243637c68",
   "metadata": {},
   "outputs": [
    {
     "name": "stdout",
     "output_type": "stream",
     "text": [
      "'hello': 1\n",
      "'world': 1\n"
     ]
    }
   ],
   "source": [
    "from collections import Counter\n",
    "import re\n",
    "\n",
    "def word_counter(input_text):\n",
    "    cleaned_text = re.sub(r'[^\\w\\s]', '', input_text).lower()\n",
    "    words = cleaned_text.split()\n",
    "    word_count = Counter(words)\n",
    "    for word, count in word_count.items():\n",
    "        print(f\"'{word}': {count}\")\n",
    "input_text = \"Hello! World\"\n",
    "word_counter(input_text)\n",
    "\n"
   ]
  },
  {
   "cell_type": "code",
   "execution_count": 1,
   "id": "5570ffa0-7076-4b9e-9536-349d0b8851b1",
   "metadata": {},
   "outputs": [],
   "source": [
    "##Palindrome\n"
   ]
  },
  {
   "cell_type": "code",
   "execution_count": 11,
   "id": "d59ef716-4a50-4afa-a3b1-2164f619eb1f",
   "metadata": {},
   "outputs": [
    {
     "name": "stdin",
     "output_type": "stream",
     "text": [
      "Enter a string to check if it's a palindrome:  racecar\n"
     ]
    },
    {
     "name": "stdout",
     "output_type": "stream",
     "text": [
      "The string is a palindrome!\n"
     ]
    }
   ],
   "source": [
    "def is_palindrome(input_string):\n",
    "    cleaned_string = \"\"\n",
    "    for char in input_string:\n",
    "        if char.isalnum(): \n",
    "            cleaned_string += char.lower()\n",
    "    reversed_string = cleaned_string[::-1]\n",
    "    return cleaned_string == reversed_string\n",
    "user_input = input(\"Enter a string to check if it's a palindrome: \")\n",
    "\n",
    "if is_palindrome(user_input):\n",
    "    print(\"The string is a palindrome!\")\n",
    "else:\n",
    "    print(\"The string is not a palindrome.\")\n"
   ]
  },
  {
   "cell_type": "code",
   "execution_count": null,
   "id": "7f5026a6-04be-4606-be4b-24424b41c2ab",
   "metadata": {},
   "outputs": [],
   "source": []
  },
  {
   "cell_type": "code",
   "execution_count": null,
   "id": "06040be5-b03a-44bc-b379-1c1108ca635e",
   "metadata": {},
   "outputs": [],
   "source": []
  }
 ],
 "metadata": {
  "kernelspec": {
   "display_name": "Python 3 (ipykernel)",
   "language": "python",
   "name": "python3"
  },
  "language_info": {
   "codemirror_mode": {
    "name": "ipython",
    "version": 3
   },
   "file_extension": ".py",
   "mimetype": "text/x-python",
   "name": "python",
   "nbconvert_exporter": "python",
   "pygments_lexer": "ipython3",
   "version": "3.12.4"
  }
 },
 "nbformat": 4,
 "nbformat_minor": 5
}
